{
 "cells": [
  {
   "metadata": {},
   "cell_type": "code",
   "source": [
    "import glob\n",
    "\n",
    "import numpy as np\n",
    "import pandas as pd\n",
    "import plotly.express as px\n",
    "from dtaidistance import dtw_ndim\n",
    "from scipy.cluster.hierarchy import linkage, fcluster\n",
    "from simplification.cutil import simplify_coords"
   ],
   "id": "7937984c704f7a80",
   "outputs": [],
   "execution_count": null
  },
  {
   "metadata": {},
   "cell_type": "code",
   "source": "from env import clean_and_filtered_data_path, grouped_data_path, distance_matrix_dir",
   "id": "2ea518e165f8695e",
   "outputs": [],
   "execution_count": null
  },
  {
   "metadata": {},
   "cell_type": "markdown",
   "source": [
    "# Erstelle einen vollständig gefilterten Datensatz.\n",
    "\n",
    "Lade den durch `clean_and_filter.py` gefilterten Datensatz, um ihn nach Streckenähnlichkeit zu gruppieren und zu filtern. Hiermit werden alle Fahrten entfernt, die zu stark von der Mehrheit abweichen. Zurück bleibt ein Datensatz mit nach Strecke gruppierten Fahrten, der wenig Rauschen durch Falschinformationen enthält."
   ],
   "id": "ddaace4162fee611"
  },
  {
   "cell_type": "code",
   "id": "initial_id",
   "metadata": {
    "collapsed": true
   },
   "source": [
    "everything = pd.read_csv(\n",
    "    clean_and_filtered_data_path,\n",
    "    usecols=['vehicle_id', 'status', 'latitude', 'longitude', 'last_modified', 'pdop', 'line', 'ziel', 'ziel_short', 'ride_id'],\n",
    "    parse_dates=['last_modified'],\n",
    ")"
   ],
   "outputs": [],
   "execution_count": null
  },
  {
   "metadata": {},
   "cell_type": "code",
   "source": "print(\"Row Count: \", everything.shape[0])",
   "id": "948b356616afb7e6",
   "outputs": [],
   "execution_count": null
  },
  {
   "metadata": {},
   "cell_type": "markdown",
   "source": "Lade die von `create_distance_matrix.py` erstellten Distanzmatrix-Dateien, um die Fahrten zu clustern. Die Distanzmatrix-Dateien enthalten eine durch den DWT-Algorithmus ermittelte Ähnlichkeit aller Fahrten, die denselben Start- und Endpunkt angesteuert haben.",
   "id": "a9f8121a1265fa55"
  },
  {
   "metadata": {},
   "cell_type": "code",
   "source": [
    "all_distance_matrix = []\n",
    "\n",
    "for filename in glob.glob(f\"{distance_matrix_dir}/distance_matrix-*\"):\n",
    "    all_distance_matrix.append(pd.read_csv(filename, index_col=0))\n"
   ],
   "id": "4c18bd727463b055",
   "outputs": [],
   "execution_count": null
  },
  {
   "metadata": {},
   "cell_type": "code",
   "source": "print(\"Loaded Matrix Data: \", len(all_distance_matrix))",
   "id": "68e416567640c4b1",
   "outputs": [],
   "execution_count": null
  },
  {
   "metadata": {},
   "cell_type": "markdown",
   "source": "Erstelle Gruppierungen durch das Clustern der Distanzmatrizen. Dadurch werden die Fahrten nach ihrer Ähnlichkeit gruppiert.",
   "id": "63273324740dd8d6"
  },
  {
   "metadata": {},
   "cell_type": "code",
   "source": [
    "cluster_ds = []\n",
    "filtered_clusters = []\n",
    "\n",
    "distance_threshold = 0.003\n",
    "for i, distance_matrix in enumerate(all_distance_matrix):\n",
    "    condensed_distance_matrix = distance_matrix.values[np.triu_indices_from(distance_matrix.values, k=1)]\n",
    "\n",
    "    # cluster dataset by distance matrix\n",
    "    linkage_matrix = linkage(condensed_distance_matrix, method='average')\n",
    "    clusters = fcluster(linkage_matrix, distance_threshold, criterion='distance')\n",
    "\n",
    "    # translate to unique namespace\n",
    "    clusters = clusters + (i * 1000)\n",
    "\n",
    "    clustered_datasets = pd.DataFrame({'ride_id': distance_matrix.index.to_numpy(), 'cluster': clusters})\n",
    "    cluster_ds.append(clustered_datasets)\n",
    "\n",
    "    # get the biggest cluster and save it for later filtering\n",
    "    cluster_counts = clustered_datasets['cluster'].value_counts()\n",
    "    index = np.unravel_index(cluster_counts.values.argmax(), cluster_counts.shape)\n",
    "    max_cluster = cluster_counts.index.to_numpy()[index]\n",
    "\n",
    "    filtered_clusters.append(max_cluster)"
   ],
   "id": "86af15f80e61811a",
   "outputs": [],
   "execution_count": null
  },
  {
   "metadata": {},
   "cell_type": "code",
   "source": "ride_id_to_cluster_df = pd.concat(cluster_ds)",
   "id": "fc06963ddbf04fab",
   "outputs": [],
   "execution_count": null
  },
  {
   "metadata": {},
   "cell_type": "code",
   "source": "print(\"Amount of unique clusters:\", ride_id_to_cluster_df.cluster.nunique())",
   "id": "f154772635bf01b9",
   "outputs": [],
   "execution_count": null
  },
  {
   "metadata": {},
   "cell_type": "code",
   "source": "all_data_with_cluster = everything.merge(ride_id_to_cluster_df, on=\"ride_id\", how='left')",
   "id": "8554fd4defeff415",
   "outputs": [],
   "execution_count": null
  },
  {
   "metadata": {},
   "cell_type": "code",
   "source": "all_data_with_cluster.head()",
   "id": "4554cf244cf518f3",
   "outputs": [],
   "execution_count": null
  },
  {
   "metadata": {},
   "cell_type": "markdown",
   "source": "Nun erstellen wir vereinfachte Versionen der Fahrten, um sie besser mit der gleich ausgewählten Basisroute zu vergleichen.",
   "id": "8837048cf5acf020"
  },
  {
   "metadata": {},
   "cell_type": "code",
   "source": [
    "def simpli(x, epsilon):\n",
    "    result_array = simplify_coords(x, epsilon)\n",
    "    return pd.DataFrame(result_array)"
   ],
   "id": "877f13551e01240c",
   "outputs": [],
   "execution_count": null
  },
  {
   "metadata": {},
   "cell_type": "code",
   "source": "simplified_coordinates = (all_data_with_cluster.groupby('ride_id').apply(lambda group: simpli(group[['latitude', 'longitude']].to_numpy(), .001), include_groups=False))",
   "id": "d92f8262936fc813",
   "outputs": [],
   "execution_count": null
  },
  {
   "metadata": {},
   "cell_type": "code",
   "source": "simplified_coordinates.head()",
   "id": "3c4baf16494907e2",
   "outputs": [],
   "execution_count": null
  },
  {
   "metadata": {},
   "cell_type": "code",
   "source": "ride_ids = all_data_with_cluster['ride_id'].unique()",
   "id": "c60c5063febc74cd",
   "outputs": [],
   "execution_count": null
  },
  {
   "metadata": {},
   "cell_type": "code",
   "source": [
    "anything_simple = pd.DataFrame(simplified_coordinates).reset_index()\n",
    "simple_with_cluster = anything_simple.merge(ride_id_to_cluster_df, on=\"ride_id\", how='left')"
   ],
   "id": "d246eb89e9c44708",
   "outputs": [],
   "execution_count": null
  },
  {
   "metadata": {},
   "cell_type": "markdown",
   "source": "Zufällige Auswahl der Basisroute als Referenzstrecke für alle Gruppenmitglieder.",
   "id": "c70332995ef997c6"
  },
  {
   "metadata": {},
   "cell_type": "code",
   "source": [
    "random_sample = simple_with_cluster[['ride_id', 'cluster']].drop_duplicates().groupby('cluster').agg(pd.DataFrame.sample)\n",
    "chosen_routes = random_sample[random_sample.index.isin(filtered_clusters)]['ride_id'].to_numpy()"
   ],
   "id": "aee9da0720bcc8bb",
   "outputs": [],
   "execution_count": null
  },
  {
   "metadata": {},
   "cell_type": "code",
   "source": "chosen_routes",
   "id": "9d062d6c79369e6a",
   "outputs": [],
   "execution_count": null
  },
  {
   "metadata": {},
   "cell_type": "markdown",
   "source": "Darstellen aller Basisrouten",
   "id": "ee54ae77941c58b3"
  },
  {
   "metadata": {},
   "cell_type": "code",
   "source": "filtered = all_data_with_cluster[all_data_with_cluster.ride_id.isin(chosen_routes)]",
   "id": "6397b0024ee73447",
   "outputs": [],
   "execution_count": null
  },
  {
   "metadata": {},
   "cell_type": "code",
   "source": [
    "fig = px.line_map(filtered, lat='latitude', lon='longitude', color='cluster', center=dict(lat=54.781638, lon=9.432534), zoom=12, map_style=\"open-street-map\")\n",
    "fig.show()"
   ],
   "id": "4521b5491f38fd64",
   "outputs": [],
   "execution_count": null
  },
  {
   "metadata": {},
   "cell_type": "markdown",
   "source": "Erstellen einer Distanzmatrix von jeder Fahrt zur allen Basisfahrten. Hiermit werden die Fahrten den jeweiligen Gruppen zugeordnet.",
   "id": "7922d27d361bc00a"
  },
  {
   "metadata": {},
   "cell_type": "code",
   "source": "distance_matrix = pd.DataFrame(index=ride_ids, columns=chosen_routes)",
   "id": "93e24072c3ce6b9",
   "outputs": [],
   "execution_count": null
  },
  {
   "metadata": {},
   "cell_type": "code",
   "source": [
    "import pandas as pd\n",
    "from multiprocessing import Pool, cpu_count\n",
    "from tqdm import tqdm\n",
    "\n",
    "sc = pd.DataFrame(simplified_coordinates).reset_index()\n",
    "\n",
    "def calculate_distance(args):\n",
    "    id1, id2 = args\n",
    "    df1 = sc[sc['ride_id'] == id1]\n",
    "    df2 = sc[sc['ride_id'] == id2]\n",
    "    series1 = df1[[0, 1]].to_numpy()\n",
    "    series2 = df2[[0, 1]].to_numpy()\n",
    "    d = dtw_ndim.distance(series1, series2)\n",
    "    return (id1, id2, d)\n",
    "\n",
    "with Pool(cpu_count()) as pool:\n",
    "    args = [(id1, id2) for id1 in ride_ids for id2 in chosen_routes]\n",
    "    results = list(tqdm(pool.imap(calculate_distance, args), total=len(args)))\n",
    "\n",
    "for id1, id2, distance in results:\n",
    "    distance_matrix.loc[id1, id2] = distance"
   ],
   "id": "b671bdeb98e59166",
   "outputs": [],
   "execution_count": null
  },
  {
   "metadata": {},
   "cell_type": "code",
   "source": "distance_matrix.shape",
   "id": "39b1d8d3dd83912d",
   "outputs": [],
   "execution_count": null
  },
  {
   "metadata": {},
   "cell_type": "code",
   "source": [
    "# If you want to save the distance_matrix\n",
    "# distance_matrix.to_csv('ride_distance_to_routes.csv')"
   ],
   "id": "c81df02a041ab7cd",
   "outputs": [],
   "execution_count": null
  },
  {
   "metadata": {},
   "cell_type": "markdown",
   "source": "Finde pro Fahrt die ähnlichste Basisfahrt",
   "id": "e97f0e1e279532e5"
  },
  {
   "metadata": {},
   "cell_type": "code",
   "source": "copy_d = distance_matrix.copy()",
   "id": "676675fd99408bc4",
   "outputs": [],
   "execution_count": null
  },
  {
   "metadata": {},
   "cell_type": "code",
   "source": [
    "copy_d['group'] = copy_d.idxmin(axis=1)\n",
    "copy_d['smallest_value'] = copy_d.min(axis=1)\n",
    "copy_d"
   ],
   "id": "bc69f648599fd5a",
   "outputs": [],
   "execution_count": null
  },
  {
   "metadata": {},
   "cell_type": "code",
   "source": [
    "filter_threshold = copy_d[copy_d.smallest_value < 0.008]['group']\n",
    "filter_sc = all_data_with_cluster[all_data_with_cluster.ride_id.isin(filter_threshold.index)]\n",
    "\n",
    "merged_with_smallest = filter_sc.merge(filter_threshold, left_on='ride_id', right_index=True, how='left')\n",
    "merged_with_smallest\n",
    "filter_2 = merged_with_smallest[merged_with_smallest.group.isin(chosen_routes)]"
   ],
   "id": "ffde1c6dd13db0a",
   "outputs": [],
   "execution_count": null
  },
  {
   "metadata": {},
   "cell_type": "code",
   "source": [
    "filtered_entries = all_data_with_cluster.merge(filter_threshold, left_on='ride_id', right_index=True, how='inner')[['latitude', 'longitude', 'pdop', 'last_modified', 'ride_id', 'group']].reset_index(drop=True)\n",
    "filtered_entries"
   ],
   "id": "8180fafd83ed1a3c",
   "outputs": [],
   "execution_count": null
  },
  {
   "metadata": {},
   "cell_type": "markdown",
   "source": "Speichere die gefilterte und gruppierte Liste.",
   "id": "8231b5b8536ed8f7"
  },
  {
   "metadata": {},
   "cell_type": "code",
   "source": "filtered_entries.to_csv(grouped_data_path, index=False)",
   "id": "5dd5276d9c400421",
   "outputs": [],
   "execution_count": null
  }
 ],
 "metadata": {
  "kernelspec": {
   "display_name": "Python 3",
   "language": "python",
   "name": "python3"
  },
  "language_info": {
   "codemirror_mode": {
    "name": "ipython",
    "version": 2
   },
   "file_extension": ".py",
   "mimetype": "text/x-python",
   "name": "python",
   "nbconvert_exporter": "python",
   "pygments_lexer": "ipython2",
   "version": "2.7.6"
  }
 },
 "nbformat": 4,
 "nbformat_minor": 5
}
