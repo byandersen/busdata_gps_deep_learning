{
 "cells": [
  {
   "metadata": {
    "ExecuteTime": {
     "end_time": "2025-01-29T07:13:22.651092Z",
     "start_time": "2025-01-29T07:13:20.946034Z"
    }
   },
   "cell_type": "code",
   "source": [
    "import pandas as pd\n",
    "from torch.utils.data import DataLoader\n",
    "from torch import nn, optim\n",
    "import torch\n",
    "\n",
    "from env import train_data_path, validation_data_path, models_dir\n",
    "from models.dataloaders import LocationTimeWithoutGroupBusDataLoader\n",
    "from models.models import SimplerMLP"
   ],
   "id": "35e048556666b3f",
   "outputs": [],
   "execution_count": 1
  },
  {
   "cell_type": "code",
   "id": "initial_id",
   "metadata": {
    "collapsed": true,
    "ExecuteTime": {
     "end_time": "2025-01-29T07:13:37.599196Z",
     "start_time": "2025-01-29T07:13:24.137561Z"
    }
   },
   "source": [
    "all_train_data = pd.read_csv(\n",
    "    train_data_path,\n",
    "    index_col=False,\n",
    "    parse_dates=['last_modified1', 'last_modified2'],\n",
    ")\n",
    "\n",
    "all_validation_data = pd.read_csv(\n",
    "    validation_data_path,\n",
    "    index_col=False,\n",
    "    parse_dates=['last_modified1', 'last_modified2'],\n",
    ")"
   ],
   "outputs": [],
   "execution_count": 2
  },
  {
   "metadata": {
    "ExecuteTime": {
     "end_time": "2025-01-29T07:13:39.930925Z",
     "start_time": "2025-01-29T07:13:39.887219Z"
    }
   },
   "cell_type": "code",
   "source": [
    "train_data = all_train_data[all_train_data.group == 26129].copy().reset_index(drop=True)\n",
    "validation_data = all_validation_data[all_validation_data.group == 26129].copy().reset_index(drop=True)"
   ],
   "id": "c15fbc61c3ce7a2a",
   "outputs": [],
   "execution_count": 3
  },
  {
   "metadata": {
    "ExecuteTime": {
     "end_time": "2025-01-29T11:01:33.960418Z",
     "start_time": "2025-01-29T11:01:33.952133Z"
    }
   },
   "cell_type": "code",
   "source": [
    "percent = train_data.shape[0] / all_train_data.shape[0]\n",
    "percent"
   ],
   "id": "4eea0f06657cdcf9",
   "outputs": [
    {
     "data": {
      "text/plain": [
       "0.07040745638894137"
      ]
     },
     "execution_count": 13,
     "metadata": {},
     "output_type": "execute_result"
    }
   ],
   "execution_count": 13
  },
  {
   "metadata": {
    "ExecuteTime": {
     "end_time": "2025-01-29T11:01:50.038869Z",
     "start_time": "2025-01-29T11:01:50.033301Z"
    }
   },
   "cell_type": "code",
   "source": [
    "percent = validation_data.shape[0] / all_validation_data.shape[0]\n",
    "percent"
   ],
   "id": "1adec7ff2d3df246",
   "outputs": [
    {
     "data": {
      "text/plain": [
       "0.07032967032967033"
      ]
     },
     "execution_count": 14,
     "metadata": {},
     "output_type": "execute_result"
    }
   ],
   "execution_count": 14
  },
  {
   "metadata": {
    "ExecuteTime": {
     "end_time": "2025-01-29T07:13:40.603124Z",
     "start_time": "2025-01-29T07:13:40.527842Z"
    }
   },
   "cell_type": "code",
   "source": [
    "train_ds = LocationTimeWithoutGroupBusDataLoader(train_data)\n",
    "val_ds = LocationTimeWithoutGroupBusDataLoader(validation_data)"
   ],
   "id": "9114b2cb33f3e6f2",
   "outputs": [],
   "execution_count": 4
  },
  {
   "metadata": {
    "ExecuteTime": {
     "end_time": "2025-01-29T07:13:41.121078Z",
     "start_time": "2025-01-29T07:13:41.117921Z"
    }
   },
   "cell_type": "code",
   "source": [
    "train_data_loader = DataLoader(train_ds, batch_size=256, shuffle=True, num_workers=12)\n",
    "val_data_loader = DataLoader(val_ds, batch_size=256, shuffle=True, num_workers=12)"
   ],
   "id": "df847333d565bae7",
   "outputs": [],
   "execution_count": 5
  },
  {
   "metadata": {
    "ExecuteTime": {
     "end_time": "2025-01-29T07:13:41.633582Z",
     "start_time": "2025-01-29T07:13:41.628878Z"
    }
   },
   "cell_type": "code",
   "source": "model = SimplerMLP(input_size=15)",
   "id": "2d84f2cd4116fca7",
   "outputs": [],
   "execution_count": 6
  },
  {
   "metadata": {
    "ExecuteTime": {
     "end_time": "2025-01-29T07:13:42.936973Z",
     "start_time": "2025-01-29T07:13:42.171856Z"
    }
   },
   "cell_type": "code",
   "source": [
    "optimizer = optim.Adam(model.parameters(), lr=0.01)\n",
    "loss_function = nn.MSELoss()"
   ],
   "id": "be8cb1643149e8dd",
   "outputs": [],
   "execution_count": 7
  },
  {
   "metadata": {
    "ExecuteTime": {
     "end_time": "2025-01-29T07:13:43.462619Z",
     "start_time": "2025-01-29T07:13:43.459692Z"
    }
   },
   "cell_type": "code",
   "source": "device = torch.device(\"cuda\") if torch.cuda.is_available() else torch.device(\"cpu\")",
   "id": "52af1926ec9497ec",
   "outputs": [],
   "execution_count": 8
  },
  {
   "metadata": {
    "ExecuteTime": {
     "end_time": "2025-01-29T07:13:44.021543Z",
     "start_time": "2025-01-29T07:13:44.018609Z"
    }
   },
   "cell_type": "code",
   "source": [
    "save_path = models_dir.joinpath('simple_only_26129')\n",
    "save_path.mkdir(parents=True, exist_ok=True)"
   ],
   "id": "469bc547a5f438bf",
   "outputs": [],
   "execution_count": 9
  },
  {
   "metadata": {
    "ExecuteTime": {
     "end_time": "2025-01-29T09:01:52.355829Z",
     "start_time": "2025-01-29T07:13:45.183583Z"
    }
   },
   "cell_type": "code",
   "source": [
    "import json\n",
    "import time\n",
    "\n",
    "saved_data = []\n",
    "num_epochs = 100\n",
    "for epoch in range(num_epochs):\n",
    "    model.train()\n",
    "\n",
    "    model = model.to(device)\n",
    "\n",
    "    running_loss = 0.0\n",
    "\n",
    "    time_start = time.time()\n",
    "    for data in train_data_loader:\n",
    "        inputs, labels = data\n",
    "        inputs = inputs.to(device)\n",
    "        labels = labels.to(device)\n",
    "\n",
    "        optimizer.zero_grad()\n",
    "\n",
    "        outputs = model(inputs)\n",
    "\n",
    "        loss = loss_function(outputs, labels)\n",
    "\n",
    "        loss.backward()\n",
    "\n",
    "        optimizer.step()\n",
    "\n",
    "        running_loss += loss.item()\n",
    "\n",
    "    training_loss = running_loss / len(train_data_loader)\n",
    "\n",
    "    with torch.no_grad():\n",
    "        model.eval()\n",
    "        running_loss = 0.0\n",
    "\n",
    "        for data in val_data_loader:\n",
    "            inputs, labels = data\n",
    "            inputs = inputs.to(device)\n",
    "            labels = labels.to(device)\n",
    "\n",
    "            outputs = model(inputs)\n",
    "            loss = loss_function(outputs, labels)\n",
    "\n",
    "            running_loss += loss.item()\n",
    "\n",
    "        validating_loss = running_loss / len(val_data_loader)\n",
    "\n",
    "    model = model.to(torch.device('cpu'))\n",
    "\n",
    "    torch.save(optimizer.state_dict(), save_path.joinpath(f\"{epoch}-optimizer.pt\"))\n",
    "    torch.save(model.state_dict(), save_path.joinpath(f\"{epoch}-model.pt\"))\n",
    "    saved_data.append({\n",
    "        \"epoch\": epoch,\n",
    "        \"training_loss\": training_loss,\n",
    "        \"validation_loss\": validating_loss,\n",
    "    })\n",
    "\n",
    "    time_end = time.time()\n",
    "    time_elapsed = (time_end - time_start) / 60\n",
    "    print(f'Epoch [{epoch + 1}/{num_epochs}], Training = {training_loss:.3f}, Validation = {validating_loss:.3f}, Time = {time_elapsed:.2f}')\n",
    "\n",
    "with open(save_path.joinpath('loss.json'), 'w') as f:\n",
    "    json.dump(saved_data, f)\n",
    "\n",
    "print(\"Done\")"
   ],
   "id": "be5b482e8a82daf9",
   "outputs": [
    {
     "name": "stdout",
     "output_type": "stream",
     "text": [
      "Epoch [1/100], Training = 36.826, Validation = 15.663, Time = 1.00\n",
      "Epoch [2/100], Training = 15.395, Validation = 14.668, Time = 1.01\n",
      "Epoch [3/100], Training = 14.827, Validation = 16.007, Time = 1.00\n",
      "Epoch [4/100], Training = 14.565, Validation = 14.352, Time = 1.00\n",
      "Epoch [5/100], Training = 14.213, Validation = 14.859, Time = 1.00\n",
      "Epoch [6/100], Training = 14.022, Validation = 15.338, Time = 1.00\n",
      "Epoch [7/100], Training = 13.775, Validation = 14.088, Time = 1.00\n",
      "Epoch [8/100], Training = 13.254, Validation = 13.648, Time = 1.00\n",
      "Epoch [9/100], Training = 12.772, Validation = 12.634, Time = 1.00\n",
      "Epoch [10/100], Training = 12.197, Validation = 13.656, Time = 1.03\n",
      "Epoch [11/100], Training = 12.004, Validation = 11.423, Time = 1.03\n",
      "Epoch [12/100], Training = 11.713, Validation = 11.649, Time = 1.03\n",
      "Epoch [13/100], Training = 11.489, Validation = 11.874, Time = 1.08\n",
      "Epoch [14/100], Training = 11.267, Validation = 12.090, Time = 1.04\n",
      "Epoch [15/100], Training = 11.074, Validation = 11.436, Time = 1.08\n",
      "Epoch [16/100], Training = 10.674, Validation = 10.685, Time = 1.03\n",
      "Epoch [17/100], Training = 10.478, Validation = 10.263, Time = 1.05\n",
      "Epoch [18/100], Training = 10.118, Validation = 10.317, Time = 1.07\n",
      "Epoch [19/100], Training = 10.061, Validation = 10.079, Time = 1.01\n",
      "Epoch [20/100], Training = 9.808, Validation = 9.831, Time = 1.01\n",
      "Epoch [21/100], Training = 9.567, Validation = 9.961, Time = 1.03\n",
      "Epoch [22/100], Training = 9.501, Validation = 10.189, Time = 1.06\n",
      "Epoch [23/100], Training = 9.309, Validation = 10.930, Time = 1.11\n",
      "Epoch [24/100], Training = 9.212, Validation = 9.155, Time = 1.04\n",
      "Epoch [25/100], Training = 9.310, Validation = 9.769, Time = 1.10\n",
      "Epoch [26/100], Training = 9.135, Validation = 9.175, Time = 1.13\n",
      "Epoch [27/100], Training = 9.148, Validation = 9.028, Time = 1.06\n",
      "Epoch [28/100], Training = 9.097, Validation = 8.992, Time = 1.08\n",
      "Epoch [29/100], Training = 9.043, Validation = 8.703, Time = 1.00\n",
      "Epoch [30/100], Training = 8.961, Validation = 9.321, Time = 0.99\n",
      "Epoch [31/100], Training = 8.958, Validation = 9.379, Time = 2.00\n",
      "Epoch [32/100], Training = 8.939, Validation = 9.061, Time = 2.62\n",
      "Epoch [33/100], Training = 8.847, Validation = 9.373, Time = 2.64\n",
      "Epoch [34/100], Training = 8.882, Validation = 9.246, Time = 2.67\n",
      "Epoch [35/100], Training = 8.846, Validation = 8.838, Time = 1.02\n",
      "Epoch [36/100], Training = 8.739, Validation = 8.892, Time = 1.05\n",
      "Epoch [37/100], Training = 8.876, Validation = 9.418, Time = 1.02\n",
      "Epoch [38/100], Training = 8.683, Validation = 8.866, Time = 1.03\n",
      "Epoch [39/100], Training = 8.742, Validation = 8.804, Time = 1.03\n",
      "Epoch [40/100], Training = 8.652, Validation = 9.643, Time = 1.05\n",
      "Epoch [41/100], Training = 8.828, Validation = 8.830, Time = 1.01\n",
      "Epoch [42/100], Training = 8.614, Validation = 10.237, Time = 1.02\n",
      "Epoch [43/100], Training = 8.633, Validation = 10.043, Time = 1.08\n",
      "Epoch [44/100], Training = 8.754, Validation = 8.781, Time = 1.02\n",
      "Epoch [45/100], Training = 8.623, Validation = 9.245, Time = 1.01\n",
      "Epoch [46/100], Training = 8.634, Validation = 10.120, Time = 1.01\n",
      "Epoch [47/100], Training = 8.652, Validation = 8.778, Time = 1.01\n",
      "Epoch [48/100], Training = 8.674, Validation = 9.639, Time = 1.00\n",
      "Epoch [49/100], Training = 8.489, Validation = 9.176, Time = 1.02\n",
      "Epoch [50/100], Training = 8.564, Validation = 8.944, Time = 1.03\n",
      "Epoch [51/100], Training = 8.496, Validation = 9.055, Time = 1.08\n",
      "Epoch [52/100], Training = 8.559, Validation = 9.877, Time = 1.03\n",
      "Epoch [53/100], Training = 8.579, Validation = 9.696, Time = 1.05\n",
      "Epoch [54/100], Training = 8.531, Validation = 8.888, Time = 1.18\n",
      "Epoch [55/100], Training = 8.454, Validation = 8.922, Time = 1.06\n",
      "Epoch [56/100], Training = 8.461, Validation = 10.069, Time = 1.03\n",
      "Epoch [57/100], Training = 8.441, Validation = 8.826, Time = 1.11\n",
      "Epoch [58/100], Training = 8.493, Validation = 9.366, Time = 1.05\n",
      "Epoch [59/100], Training = 8.343, Validation = 9.400, Time = 1.12\n",
      "Epoch [60/100], Training = 8.371, Validation = 8.714, Time = 1.09\n",
      "Epoch [61/100], Training = 8.383, Validation = 8.819, Time = 1.07\n",
      "Epoch [62/100], Training = 8.360, Validation = 8.770, Time = 1.03\n",
      "Epoch [63/100], Training = 8.417, Validation = 8.654, Time = 1.02\n",
      "Epoch [64/100], Training = 8.357, Validation = 8.950, Time = 1.00\n",
      "Epoch [65/100], Training = 8.297, Validation = 8.832, Time = 1.00\n",
      "Epoch [66/100], Training = 8.346, Validation = 8.781, Time = 1.00\n",
      "Epoch [67/100], Training = 8.304, Validation = 9.087, Time = 0.99\n",
      "Epoch [68/100], Training = 8.352, Validation = 8.963, Time = 1.01\n",
      "Epoch [69/100], Training = 8.265, Validation = 8.633, Time = 1.00\n",
      "Epoch [70/100], Training = 8.288, Validation = 9.094, Time = 1.00\n",
      "Epoch [71/100], Training = 8.254, Validation = 8.354, Time = 0.99\n",
      "Epoch [72/100], Training = 8.235, Validation = 8.586, Time = 1.00\n",
      "Epoch [73/100], Training = 8.268, Validation = 8.532, Time = 1.01\n",
      "Epoch [74/100], Training = 8.218, Validation = 8.963, Time = 1.00\n",
      "Epoch [75/100], Training = 8.369, Validation = 8.724, Time = 0.99\n",
      "Epoch [76/100], Training = 8.176, Validation = 8.614, Time = 0.99\n",
      "Epoch [77/100], Training = 8.227, Validation = 8.835, Time = 0.99\n",
      "Epoch [78/100], Training = 8.224, Validation = 8.580, Time = 0.99\n",
      "Epoch [79/100], Training = 8.195, Validation = 8.420, Time = 1.02\n",
      "Epoch [80/100], Training = 8.170, Validation = 8.513, Time = 0.99\n",
      "Epoch [81/100], Training = 8.172, Validation = 9.586, Time = 0.99\n",
      "Epoch [82/100], Training = 8.175, Validation = 8.670, Time = 0.98\n",
      "Epoch [83/100], Training = 8.191, Validation = 11.597, Time = 1.00\n",
      "Epoch [84/100], Training = 8.191, Validation = 9.034, Time = 1.03\n",
      "Epoch [85/100], Training = 8.109, Validation = 9.544, Time = 0.99\n",
      "Epoch [86/100], Training = 8.115, Validation = 8.768, Time = 0.99\n",
      "Epoch [87/100], Training = 8.093, Validation = 8.981, Time = 0.99\n",
      "Epoch [88/100], Training = 8.107, Validation = 9.054, Time = 0.99\n",
      "Epoch [89/100], Training = 8.151, Validation = 9.515, Time = 0.99\n",
      "Epoch [90/100], Training = 8.062, Validation = 8.716, Time = 0.99\n",
      "Epoch [91/100], Training = 8.020, Validation = 8.718, Time = 0.99\n",
      "Epoch [92/100], Training = 8.093, Validation = 8.899, Time = 0.99\n",
      "Epoch [93/100], Training = 8.112, Validation = 9.662, Time = 0.99\n",
      "Epoch [94/100], Training = 8.094, Validation = 8.443, Time = 0.99\n",
      "Epoch [95/100], Training = 8.042, Validation = 8.429, Time = 0.98\n",
      "Epoch [96/100], Training = 8.075, Validation = 8.337, Time = 0.99\n",
      "Epoch [97/100], Training = 8.055, Validation = 8.388, Time = 0.99\n",
      "Epoch [98/100], Training = 8.063, Validation = 8.996, Time = 0.99\n",
      "Epoch [99/100], Training = 8.044, Validation = 8.478, Time = 0.99\n",
      "Epoch [100/100], Training = 8.014, Validation = 8.657, Time = 0.98\n",
      "Done\n"
     ]
    }
   ],
   "execution_count": 10
  },
  {
   "metadata": {},
   "cell_type": "code",
   "outputs": [],
   "execution_count": null,
   "source": "",
   "id": "4cdbb6306e9e484"
  }
 ],
 "metadata": {
  "kernelspec": {
   "display_name": "Python 3",
   "language": "python",
   "name": "python3"
  },
  "language_info": {
   "codemirror_mode": {
    "name": "ipython",
    "version": 2
   },
   "file_extension": ".py",
   "mimetype": "text/x-python",
   "name": "python",
   "nbconvert_exporter": "python",
   "pygments_lexer": "ipython2",
   "version": "2.7.6"
  }
 },
 "nbformat": 4,
 "nbformat_minor": 5
}
